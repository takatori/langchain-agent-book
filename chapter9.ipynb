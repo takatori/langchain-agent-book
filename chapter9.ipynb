{
 "cells": [
  {
   "cell_type": "code",
   "execution_count": 1,
   "id": "3514e12a",
   "metadata": {},
   "outputs": [
    {
     "name": "stdout",
     "output_type": "stream",
     "text": [
      "agent-book\n"
     ]
    }
   ],
   "source": [
    "from dotenv import load_dotenv\n",
    "import os\n",
    "\n",
    "load_dotenv()\n",
    "\n",
    "print(os.getenv(\"LANGCHAIN_PROJECT\"))"
   ]
  },
  {
   "cell_type": "code",
   "execution_count": 2,
   "id": "341e4433",
   "metadata": {},
   "outputs": [],
   "source": [
    "ROLES = {\n",
    "    \"1\": {\n",
    "        \"name\": \"一般知識エキスパート\",\n",
    "        \"description\": \"幅広い分野の一般的な質問に答える\",\n",
    "        \"details\": \"幅広い分野の一般的な質問に対して、正確で分かりやすい回答を提供してください。\"\n",
    "    },\n",
    "    \"2\": {\n",
    "        \"name\": \"生成AI製品エキスパート\",\n",
    "        \"description\": \"生成AIや関連製品、技術に関する専門的な質問に答える\",\n",
    "        \"details\": \"生成AIや関連製品、技術に関する専門的な質問に対して、最新の情報と深い洞察を提供してください。\"\n",
    "    },\n",
    "    \"3\": {\n",
    "        \"name\": \"カウンセラー\",\n",
    "        \"description\": \"個人的な悩みや心理的な問題に対してサポートを提供する\",\n",
    "        \"details\": \"個人的な悩みや心理的な問題に対して、共感的で支援的な回答を提供し、可能であれば適切なアドバイスも行ってください。\"\n",
    "    }\n",
    "}"
   ]
  },
  {
   "cell_type": "code",
   "execution_count": 3,
   "id": "449779c7",
   "metadata": {},
   "outputs": [],
   "source": [
    "import operator\n",
    "from typing import Annotated\n",
    "from langchain_core.pydantic_v1 import BaseModel, Field\n",
    "\n",
    "class State(BaseModel):\n",
    "    query: str = Field(\n",
    "        ..., description=\"ユーザからの質問\"\n",
    "    )\n",
    "    current_role: str = Field(\n",
    "        default=\"\", description=\"選定された回答ロール\"\n",
    "    )\n",
    "    messages: Annotated[list[str], operator.add] = Field(\n",
    "        default=[], description=\"回答履歴\"\n",
    "    )\n",
    "    current_judge: bool = Field(\n",
    "        default=False, description=\"品質チェックの結果\"\n",
    "    )\n",
    "    judgement_reason: str = Field(\n",
    "        default=\"\", description=\"品質チェックの理由\"\n",
    "    )"
   ]
  },
  {
   "cell_type": "code",
   "execution_count": 4,
   "id": "2c619ba9",
   "metadata": {},
   "outputs": [],
   "source": [
    "from langchain_anthropic import ChatAnthropic\n",
    "from langchain_core.runnables import ConfigurableField\n",
    "\n",
    "llm = ChatAnthropic(model=\"claude-3-haiku-20240307\", temperature=0.0)\n",
    "llm = llm.configurable_fields(max_tokens=ConfigurableField(id='max_tokens'))"
   ]
  },
  {
   "cell_type": "code",
   "execution_count": 5,
   "id": "d7f9c08d",
   "metadata": {},
   "outputs": [],
   "source": [
    "from typing import Any\n",
    "\n",
    "from langchain_core.prompts import ChatPromptTemplate\n",
    "from langchain_core.output_parsers import StrOutputParser\n",
    "\n",
    "def selection_node(state: State) -> dict[str, Any]:\n",
    "    query = state.query\n",
    "    role_options = \"\\n\".join([f\"{k}. {v['description']}\" for k, v in ROLES.items()])\n",
    "    prompt = ChatPromptTemplate.from_template(\n",
    "\"\"\"質問を分析し、最も適切な回答担当ロールを選択してください。\n",
    "\n",
    "選択肢:\n",
    "{role_options}\n",
    "\n",
    "回答は選択肢の番号(1,2,または3)のみを返してください。\n",
    "\n",
    "質問: {query}\n",
    "\"\"\".strip()\n",
    "    )\n",
    "    # 選択肢の番号のみを返すことを期待したいため、max_tokensを1に設定\n",
    "    chain = prompt | llm.with_config(configuarable=dict(max_tokens=1)) | StrOutputParser()\n",
    "    role_number = chain.invoke({\"role_options\": role_options, \"query\": query})\n",
    "\n",
    "    selected_role = ROLES[role_number.strip()]['name']\n",
    "    return { \"current_role\": selected_role }\n"
   ]
  },
  {
   "cell_type": "code",
   "execution_count": 7,
   "id": "78a2a7da",
   "metadata": {},
   "outputs": [],
   "source": [
    "def answer_node(state: State) -> dict[str, Any]:\n",
    "    query = state.query\n",
    "    role = state.current_role\n",
    "    role_details = \"\\n\".join([f\"- {v['name']}: {v['details']}\" for v in ROLES.values()])\n",
    "    prompt = ChatPromptTemplate.from_template(\n",
    "\"\"\"あなたは{role}として回答してください。以下の質問に対して、あなたの役割に基づいた適切な回答を提供してください。\n",
    "\n",
    "役割の詳細:\n",
    "{role_details}\n",
    "\n",
    "質問: {query}\n",
    "\n",
    "回答:\"\"\".strip()\n",
    "    )\n",
    "    chain = prompt | llm | StrOutputParser()\n",
    "    answer = chain.invoke({\"role\": role, \"role_details\": role_details, \"query\": query})\n",
    "    return { \"messages\": [answer] }\n"
   ]
  },
  {
   "cell_type": "code",
   "execution_count": 10,
   "id": "bff7a463",
   "metadata": {},
   "outputs": [],
   "source": [
    "class Judgement(BaseModel):    \n",
    "    reason: str = Field(default=\"\", description=\"判断理由\")\n",
    "    judge: bool = Field(default=False, description=\"品質チェックの結果\")\n",
    "\n",
    "\n",
    "def check_node(state: State) -> dict[str, Any]:\n",
    "    query = state.query\n",
    "    answer = state.messages[-1]\n",
    "    prompt = ChatPromptTemplate.from_template(\n",
    "\"\"\"以下の回答の品質をチェックし、問題がある場合は'False'、問題がない場合は'True'を回答してください。また、その判断理由も説明してください。\n",
    "\n",
    "ユーザからの質問: {query}\n",
    "回答: {answer}\n",
    "\"\"\".strip()\n",
    "    )\n",
    "    chain = prompt | llm.with_structured_output(Judgement)\n",
    "    result: Judgement = chain.invoke({\"query\": query, \"answer\": answer})\n",
    "\n",
    "    return {\n",
    "        \"current_judge\": result.judge,\n",
    "        \"judgement_reason\": result.reason\n",
    "    }"
   ]
  },
  {
   "cell_type": "code",
   "execution_count": 9,
   "id": "a6e155c1",
   "metadata": {},
   "outputs": [],
   "source": [
    "from langgraph.graph import StateGraph\n",
    "\n",
    "workflow = StateGraph(State)"
   ]
  },
  {
   "cell_type": "code",
   "execution_count": 13,
   "id": "675b705f",
   "metadata": {},
   "outputs": [
    {
     "ename": "ValueError",
     "evalue": "Node `selection` already present.",
     "output_type": "error",
     "traceback": [
      "\u001b[31m---------------------------------------------------------------------------\u001b[39m",
      "\u001b[31mValueError\u001b[39m                                Traceback (most recent call last)",
      "\u001b[36mCell\u001b[39m\u001b[36m \u001b[39m\u001b[32mIn[13]\u001b[39m\u001b[32m, line 1\u001b[39m\n\u001b[32m----> \u001b[39m\u001b[32m1\u001b[39m \u001b[43mworkflow\u001b[49m\u001b[43m.\u001b[49m\u001b[43madd_node\u001b[49m\u001b[43m(\u001b[49m\u001b[33;43m\"\u001b[39;49m\u001b[33;43mselection\u001b[39;49m\u001b[33;43m\"\u001b[39;49m\u001b[43m,\u001b[49m\u001b[43m \u001b[49m\u001b[43mselection_node\u001b[49m\u001b[43m)\u001b[49m\n\u001b[32m      2\u001b[39m workflow.add_node(\u001b[33m\"\u001b[39m\u001b[33manswer\u001b[39m\u001b[33m\"\u001b[39m, answer_node)\n\u001b[32m      3\u001b[39m workflow.add_node(\u001b[33m\"\u001b[39m\u001b[33mcheck\u001b[39m\u001b[33m\"\u001b[39m, check_node)\n",
      "\u001b[36mFile \u001b[39m\u001b[32m~/Desktop/playground/langchain-agent-book/.venv/lib/python3.12/site-packages/langgraph/graph/state.py:478\u001b[39m, in \u001b[36mStateGraph.add_node\u001b[39m\u001b[34m(self, node, action, defer, metadata, input_schema, retry_policy, cache_policy, destinations, **kwargs)\u001b[39m\n\u001b[32m    476\u001b[39m     \u001b[38;5;28;01mraise\u001b[39;00m \u001b[38;5;167;01mRuntimeError\u001b[39;00m\n\u001b[32m    477\u001b[39m \u001b[38;5;28;01mif\u001b[39;00m node \u001b[38;5;129;01min\u001b[39;00m \u001b[38;5;28mself\u001b[39m.nodes:\n\u001b[32m--> \u001b[39m\u001b[32m478\u001b[39m     \u001b[38;5;28;01mraise\u001b[39;00m \u001b[38;5;167;01mValueError\u001b[39;00m(\u001b[33mf\u001b[39m\u001b[33m\"\u001b[39m\u001b[33mNode `\u001b[39m\u001b[38;5;132;01m{\u001b[39;00mnode\u001b[38;5;132;01m}\u001b[39;00m\u001b[33m` already present.\u001b[39m\u001b[33m\"\u001b[39m)\n\u001b[32m    479\u001b[39m \u001b[38;5;28;01mif\u001b[39;00m node == END \u001b[38;5;129;01mor\u001b[39;00m node == START:\n\u001b[32m    480\u001b[39m     \u001b[38;5;28;01mraise\u001b[39;00m \u001b[38;5;167;01mValueError\u001b[39;00m(\u001b[33mf\u001b[39m\u001b[33m\"\u001b[39m\u001b[33mNode `\u001b[39m\u001b[38;5;132;01m{\u001b[39;00mnode\u001b[38;5;132;01m}\u001b[39;00m\u001b[33m` is reserved.\u001b[39m\u001b[33m\"\u001b[39m)\n",
      "\u001b[31mValueError\u001b[39m: Node `selection` already present."
     ]
    }
   ],
   "source": [
    "workflow.add_node(\"selection\", selection_node)\n",
    "workflow.add_node(\"answer\", answer_node)\n",
    "workflow.add_node(\"check\", check_node)"
   ]
  },
  {
   "cell_type": "code",
   "execution_count": 14,
   "id": "fe1536da",
   "metadata": {},
   "outputs": [
    {
     "data": {
      "text/plain": [
       "<langgraph.graph.state.StateGraph at 0x10c559c40>"
      ]
     },
     "execution_count": 14,
     "metadata": {},
     "output_type": "execute_result"
    }
   ],
   "source": [
    "# selectionノードから処理を開始\n",
    "workflow.set_entry_point(\"selection\")\n",
    "# selectionノードからansweringノードへ遷移\n",
    "workflow.add_edge(\"selection\", \"answer\")\n",
    "# answeringノードからcheckノードへ遷移\n",
    "workflow.add_edge(\"answer\", \"check\")"
   ]
  },
  {
   "cell_type": "code",
   "execution_count": 15,
   "id": "8af6efe4",
   "metadata": {},
   "outputs": [
    {
     "data": {
      "text/plain": [
       "<langgraph.graph.state.StateGraph at 0x10c559c40>"
      ]
     },
     "execution_count": 15,
     "metadata": {},
     "output_type": "execute_result"
    }
   ],
   "source": [
    "from langgraph.graph import END\n",
    "\n",
    "# checkノードから次のノードへの遷移に条件付きエッジを定義\n",
    "workflow.add_conditional_edges(\n",
    "    \"check\",\n",
    "    lambda state: state.current_judge,\n",
    "    {True: END, False: \"selection\"}\n",
    ")"
   ]
  },
  {
   "cell_type": "code",
   "execution_count": 16,
   "id": "8a1b70ff",
   "metadata": {},
   "outputs": [],
   "source": [
    "compiled = workflow.compile()"
   ]
  },
  {
   "cell_type": "code",
   "execution_count": 17,
   "id": "e730a2dd",
   "metadata": {},
   "outputs": [],
   "source": [
    "init_state = State(query=\"生成AIについて教えてください\")\n",
    "result = compiled.invoke(init_state)"
   ]
  },
  {
   "cell_type": "code",
   "execution_count": 18,
   "id": "cfd1549d",
   "metadata": {},
   "outputs": [
    {
     "name": "stdout",
     "output_type": "stream",
     "text": [
      "{'query': '生成AIについて教えてください', 'current_role': '生成AI製品エキスパート', 'messages': ['はい、生成AIについて詳しく説明させていただきます。\\n\\n生成AIとは、人工知能技術を使って新しいコンテンツを自動的に生成する技術です。これには主に以下のようなものがあります:\\n\\n- 言語モデル: 大量のテキストデータを学習し、人間のような自然言語を生成することができます。GPT-3やChatGPTなどがその代表例です。\\n\\n- 画像生成モデル: 大量の画像データを学習し、新しい画像を生成することができます。DALL-Eやステーブル・ディフューションなどがあります。\\n\\n- 音声合成モデル: 音声データを学習し、人間の声を模倣して新しい音声を生成することができます。Whisperなどがその例です。\\n\\nこれらの生成AIは、創造性や生産性の向上、新しいアイデアの創出など、さまざまな用途が期待されています。一方で、倫理的な懸念や著作権の問題など、課題もあります。\\n\\n生成AIの技術は日々進化しており、今後さらなる発展が予想されます。適切に活用していくことが重要です。ご質問ありがとうございました。'], 'current_judge': True, 'judgement_reason': 'この回答は生成AIの概要を簡潔かつ分かりやすく説明しており、ユーザの質問に適切に答えています。回答内容に問題はありません。'}\n"
     ]
    }
   ],
   "source": [
    "print(result)"
   ]
  },
  {
   "cell_type": "code",
   "execution_count": 19,
   "id": "de1efdcb",
   "metadata": {},
   "outputs": [
    {
     "name": "stdout",
     "output_type": "stream",
     "text": [
      "はい、生成AIについて詳しく説明させていただきます。\n",
      "\n",
      "生成AIとは、人工知能技術を使って新しいコンテンツを自動的に生成する技術です。これには主に以下のようなものがあります:\n",
      "\n",
      "- 言語モデル: 大量のテキストデータを学習し、人間のような自然言語を生成することができます。GPT-3やChatGPTなどがその代表例です。\n",
      "\n",
      "- 画像生成モデル: 大量の画像データを学習し、新しい画像を生成することができます。DALL-Eやステーブル・ディフューションなどがあります。\n",
      "\n",
      "- 音声合成モデル: 音声データを学習し、人間の声を模倣して新しい音声を生成することができます。Whisperなどがその例です。\n",
      "\n",
      "これらの生成AIは、創造性や生産性の向上、新しいアイデアの創出など、さまざまな用途が期待されています。一方で、倫理的な懸念や著作権の問題など、課題もあります。\n",
      "\n",
      "生成AIの技術は日々進化しており、今後さらなる発展が予想されます。適切に活用していくことが重要です。ご質問ありがとうございました。\n"
     ]
    }
   ],
   "source": [
    "print(result[\"messages\"][-1])"
   ]
  },
  {
   "cell_type": "code",
   "execution_count": 21,
   "id": "50f855cc",
   "metadata": {},
   "outputs": [
    {
     "data": {
      "image/png": "[encoded data removed]",
      "text/plain": [
       "<IPython.core.display.Image object>"
      ]
     },
     "execution_count": 21,
     "metadata": {},
     "output_type": "execute_result"
    }
   ],
   "source": [
    "from IPython.display import Image\n",
    "\n",
    "Image(compiled.get_graph().draw_png())"
   ]
  },
  {
   "cell_type": "code",
   "execution_count": 29,
   "id": "f3db7c81",
   "metadata": {},
   "outputs": [],
   "source": [
    "from pprint import pprint\n",
    "from langchain_core.runnables import RunnableConfig\n",
    "from langgraph.checkpoint.base import BaseCheckpointSaver\n",
    "\n",
    "def print_checkpoint_dump(checkpointer: BaseCheckpointSaver, config: RunnableConfig) -> None:\n",
    "    checkpoint_tuple = checkpointer.get_tuple(config)\n",
    "\n",
    "    print(\"チェックポイントデータ:\")\n",
    "    pprint(checkpoint_tuple.checkpoint)\n",
    "    print(\"\\nメタデータ:\")\n",
    "    pprint(checkpoint_tuple.metadata)"
   ]
  },
  {
   "cell_type": "code",
   "execution_count": 23,
   "id": "095359b8",
   "metadata": {},
   "outputs": [],
   "source": [
    "from langgraph.checkpoint.memory import MemorySaver\n",
    "\n",
    "checkpointer = MemorySaver()\n",
    "\n",
    "compiled_graph = workflow.compile(checkpointer=checkpointer)"
   ]
  },
  {
   "cell_type": "code",
   "execution_count": 25,
   "id": "307e1f89",
   "metadata": {},
   "outputs": [
    {
     "data": {
      "text/plain": [
       "{'query': '生成AIについて教えてください',\n",
       " 'current_role': '生成AI製品エキスパート',\n",
       " 'messages': ['はい、生成AIについて詳しく説明させていただきます。\\n\\n生成AIとは、人工知能技術を使って新しいコンテンツを自動的に生成する技術です。これには主に以下のような特徴があります:\\n\\n- 言語モデルを使って自然言語を生成する言語生成AI\\n- 画像生成AI (DALL-E、Stable Diffusion など)で新しい画像を生成する\\n- 音声合成AIで人工的な音声を生成する\\n- 音楽生成AIで新しい楽曲を作り出す\\n\\nこれらの生成AIは、膨大なデータを学習することで、人間が作るのと似たような新しいコンテンツを生み出すことができます。\\n\\n生成AIの大きな特徴は、創造性と生産性の向上にあります。人間が手作業で行っていた作業を自動化できるため、効率的にコンテンツを生み出すことができます。また、人間の発想を超えた新しいアイデアを生み出すこともできます。\\n\\n一方で、生成AIにはいくつかの課題もあります。倫理的な問題や、著作権侵害のリスク、生成物の品質管理など、慎重に扱う必要があります。\\n\\n生成AIは急速に進化しており、今後さまざまな分野で活用されていくことが期待されています。ただし、人間の創造性を補完するツールとして活用していくことが重要だと考えています。'],\n",
       " 'current_judge': True,\n",
       " 'judgement_reason': 'この回答は生成AIの概要を適切に説明しており、問題はないと判断しました。回答は生成AIの特徴、メリット、課題などを簡潔にまとめており、ユーザの質問に対して十分な情報を提供しています。'}"
      ]
     },
     "execution_count": 25,
     "metadata": {},
     "output_type": "execute_result"
    }
   ],
   "source": [
    "config = {\"configurable\": {\"thread_id\": \"example_1\"}}\n",
    "init_state = State(query=\"生成AIについて教えてください\")\n",
    "result = compiled_graph.invoke(init_state, config)\n",
    "result"
   ]
  },
  {
   "cell_type": "code",
   "execution_count": 27,
   "id": "fab3d1f0",
   "metadata": {},
   "outputs": [
    {
     "name": "stdout",
     "output_type": "stream",
     "text": [
      "CheckpointTuple(config={'configurable': {'thread_id': 'example_1', 'checkpoint_ns': '', 'checkpoint_id': '1f05a1cb-df66-6a0a-8003-30f92f7f1edb'}}, checkpoint={'v': 4, 'ts': '2025-07-06T03:53:14.111218+00:00', 'id': '1f05a1cb-df66-6a0a-8003-30f92f7f1edb', 'channel_versions': {'__start__': '00000000000000000000000000000002.0.7046678504183621', 'query': '00000000000000000000000000000002.0.7046678504183621', 'current_role': '00000000000000000000000000000003.0.10467428556484415', 'messages': '00000000000000000000000000000004.0.995235724542301', 'current_judge': '00000000000000000000000000000005.0.7272335141860979', 'judgement_reason': '00000000000000000000000000000005.0.7272335141860979', 'branch:to:selection': '00000000000000000000000000000003.0.10467428556484415', 'branch:to:answer': '00000000000000000000000000000004.0.995235724542301', 'branch:to:check': '00000000000000000000000000000005.0.7272335141860979'}, 'versions_seen': {'__input__': {}, '__start__': {'__start__': '00000000000000000000000000000001.0.5151758575631956'}, 'selection': {'branch:to:selection': '00000000000000000000000000000002.0.7046678504183621'}, 'answer': {'branch:to:answer': '00000000000000000000000000000003.0.10467428556484415'}, 'check': {'branch:to:check': '00000000000000000000000000000004.0.995235724542301'}}, 'channel_values': {'query': '生成AIについて教えてください', 'current_role': '生成AI製品エキスパート', 'messages': ['はい、生成AIについて詳しく説明させていただきます。\\n\\n生成AIとは、人工知能技術を使って新しいコンテンツを自動的に生成する技術です。これには主に以下のような特徴があります:\\n\\n- 言語モデルを使って自然言語を生成する言語生成AI\\n- 画像生成AI (DALL-E、Stable Diffusion など)で新しい画像を生成する\\n- 音声合成AIで人工的な音声を生成する\\n- 音楽生成AIで新しい楽曲を作り出す\\n\\nこれらの生成AIは、膨大なデータを学習することで、人間が作るのと似たような新しいコンテンツを生み出すことができます。\\n\\n生成AIの大きな特徴は、創造性と生産性の向上にあります。人間が手作業で行っていた作業を自動化できるため、効率的にコンテンツを生み出すことができます。また、人間の発想を超えた新しいアイデアを生み出すこともできます。\\n\\n一方で、生成AIにはいくつかの課題もあります。倫理的な問題や、著作権侵害のリスク、生成物の品質管理など、慎重に扱う必要があります。\\n\\n生成AIは急速に進化しており、今後さまざまな分野で活用されていくことが期待されています。ただし、人間の創造性を補完するツールとして活用していくことが重要だと考えています。'], 'current_judge': True, 'judgement_reason': 'この回答は生成AIの概要を適切に説明しており、問題はないと判断しました。回答は生成AIの特徴、メリット、課題などを簡潔にまとめており、ユーザの質問に対して十分な情報を提供しています。'}}, metadata={'source': 'loop', 'step': 3, 'parents': {}, 'thread_id': 'example_1'}, parent_config={'configurable': {'thread_id': 'example_1', 'checkpoint_ns': '', 'checkpoint_id': '1f05a1cb-d1bb-6630-8002-7c19b54a8998'}}, pending_writes=[])\n",
      "CheckpointTuple(config={'configurable': {'thread_id': 'example_1', 'checkpoint_ns': '', 'checkpoint_id': '1f05a1cb-d1bb-6630-8002-7c19b54a8998'}}, checkpoint={'v': 4, 'ts': '2025-07-06T03:53:12.677927+00:00', 'id': '1f05a1cb-d1bb-6630-8002-7c19b54a8998', 'channel_versions': {'__start__': '00000000000000000000000000000002.0.7046678504183621', 'query': '00000000000000000000000000000002.0.7046678504183621', 'current_role': '00000000000000000000000000000003.0.10467428556484415', 'messages': '00000000000000000000000000000004.0.995235724542301', 'current_judge': '00000000000000000000000000000002.0.7046678504183621', 'judgement_reason': '00000000000000000000000000000002.0.7046678504183621', 'branch:to:selection': '00000000000000000000000000000003.0.10467428556484415', 'branch:to:answer': '00000000000000000000000000000004.0.995235724542301', 'branch:to:check': '00000000000000000000000000000004.0.995235724542301'}, 'versions_seen': {'__input__': {}, '__start__': {'__start__': '00000000000000000000000000000001.0.5151758575631956'}, 'selection': {'branch:to:selection': '00000000000000000000000000000002.0.7046678504183621'}, 'answer': {'branch:to:answer': '00000000000000000000000000000003.0.10467428556484415'}}, 'channel_values': {'query': '生成AIについて教えてください', 'current_role': '生成AI製品エキスパート', 'messages': ['はい、生成AIについて詳しく説明させていただきます。\\n\\n生成AIとは、人工知能技術を使って新しいコンテンツを自動的に生成する技術です。これには主に以下のような特徴があります:\\n\\n- 言語モデルを使って自然言語を生成する言語生成AI\\n- 画像生成AI (DALL-E、Stable Diffusion など)で新しい画像を生成する\\n- 音声合成AIで人工的な音声を生成する\\n- 音楽生成AIで新しい楽曲を作り出す\\n\\nこれらの生成AIは、膨大なデータを学習することで、人間が作るのと似たような新しいコンテンツを生み出すことができます。\\n\\n生成AIの大きな特徴は、創造性と生産性の向上にあります。人間が手作業で行っていた作業を自動化できるため、効率的にコンテンツを生み出すことができます。また、人間の発想を超えた新しいアイデアを生み出すこともできます。\\n\\n一方で、生成AIにはいくつかの課題もあります。倫理的な問題や、著作権侵害のリスク、生成物の品質管理など、慎重に扱う必要があります。\\n\\n生成AIは急速に進化しており、今後さまざまな分野で活用されていくことが期待されています。ただし、人間の創造性を補完するツールとして活用していくことが重要だと考えています。'], 'current_judge': False, 'judgement_reason': '', 'branch:to:check': None}}, metadata={'source': 'loop', 'step': 2, 'parents': {}, 'thread_id': 'example_1'}, parent_config={'configurable': {'thread_id': 'example_1', 'checkpoint_ns': '', 'checkpoint_id': '1f05a1cb-b158-691a-8001-c5ed3c027ba1'}}, pending_writes=[('e4870190-7ab9-792c-d974-f4f811bf1bac', 'current_judge', True), ('e4870190-7ab9-792c-d974-f4f811bf1bac', 'judgement_reason', 'この回答は生成AIの概要を適切に説明しており、問題はないと判断しました。回答は生成AIの特徴、メリット、課題などを簡潔にまとめており、ユーザの質問に対して十分な情報を提供しています。')])\n",
      "CheckpointTuple(config={'configurable': {'thread_id': 'example_1', 'checkpoint_ns': '', 'checkpoint_id': '1f05a1cb-b158-691a-8001-c5ed3c027ba1'}}, checkpoint={'v': 4, 'ts': '2025-07-06T03:53:09.282013+00:00', 'id': '1f05a1cb-b158-691a-8001-c5ed3c027ba1', 'channel_versions': {'__start__': '00000000000000000000000000000002.0.7046678504183621', 'query': '00000000000000000000000000000002.0.7046678504183621', 'current_role': '00000000000000000000000000000003.0.10467428556484415', 'messages': '00000000000000000000000000000002.0.7046678504183621', 'current_judge': '00000000000000000000000000000002.0.7046678504183621', 'judgement_reason': '00000000000000000000000000000002.0.7046678504183621', 'branch:to:selection': '00000000000000000000000000000003.0.10467428556484415', 'branch:to:answer': '00000000000000000000000000000003.0.10467428556484415'}, 'versions_seen': {'__input__': {}, '__start__': {'__start__': '00000000000000000000000000000001.0.5151758575631956'}, 'selection': {'branch:to:selection': '00000000000000000000000000000002.0.7046678504183621'}}, 'channel_values': {'query': '生成AIについて教えてください', 'current_role': '生成AI製品エキスパート', 'messages': [], 'current_judge': False, 'judgement_reason': '', 'branch:to:answer': None}}, metadata={'source': 'loop', 'step': 1, 'parents': {}, 'thread_id': 'example_1'}, parent_config={'configurable': {'thread_id': 'example_1', 'checkpoint_ns': '', 'checkpoint_id': '1f05a1cb-abcc-680c-8000-a7c48b8235c2'}}, pending_writes=[('579e6d76-099b-2f5d-7cd4-ae87577d222b', 'messages', ['はい、生成AIについて詳しく説明させていただきます。\\n\\n生成AIとは、人工知能技術を使って新しいコンテンツを自動的に生成する技術です。これには主に以下のような特徴があります:\\n\\n- 言語モデルを使って自然言語を生成する言語生成AI\\n- 画像生成AI (DALL-E、Stable Diffusion など)で新しい画像を生成する\\n- 音声合成AIで人工的な音声を生成する\\n- 音楽生成AIで新しい楽曲を作り出す\\n\\nこれらの生成AIは、膨大なデータを学習することで、人間が作るのと似たような新しいコンテンツを生み出すことができます。\\n\\n生成AIの大きな特徴は、創造性と生産性の向上にあります。人間が手作業で行っていた作業を自動化できるため、効率的にコンテンツを生み出すことができます。また、人間の発想を超えた新しいアイデアを生み出すこともできます。\\n\\n一方で、生成AIにはいくつかの課題もあります。倫理的な問題や、著作権侵害のリスク、生成物の品質管理など、慎重に扱う必要があります。\\n\\n生成AIは急速に進化しており、今後さまざまな分野で活用されていくことが期待されています。ただし、人間の創造性を補完するツールとして活用していくことが重要だと考えています。']), ('579e6d76-099b-2f5d-7cd4-ae87577d222b', 'branch:to:check', None)])\n",
      "CheckpointTuple(config={'configurable': {'thread_id': 'example_1', 'checkpoint_ns': '', 'checkpoint_id': '1f05a1cb-abcc-680c-8000-a7c48b8235c2'}}, checkpoint={'v': 4, 'ts': '2025-07-06T03:53:08.700360+00:00', 'id': '1f05a1cb-abcc-680c-8000-a7c48b8235c2', 'channel_versions': {'__start__': '00000000000000000000000000000002.0.7046678504183621', 'query': '00000000000000000000000000000002.0.7046678504183621', 'current_role': '00000000000000000000000000000002.0.7046678504183621', 'messages': '00000000000000000000000000000002.0.7046678504183621', 'current_judge': '00000000000000000000000000000002.0.7046678504183621', 'judgement_reason': '00000000000000000000000000000002.0.7046678504183621', 'branch:to:selection': '00000000000000000000000000000002.0.7046678504183621'}, 'versions_seen': {'__input__': {}, '__start__': {'__start__': '00000000000000000000000000000001.0.5151758575631956'}}, 'channel_values': {'query': '生成AIについて教えてください', 'current_role': '', 'messages': [], 'current_judge': False, 'judgement_reason': '', 'branch:to:selection': None}}, metadata={'source': 'loop', 'step': 0, 'parents': {}, 'thread_id': 'example_1'}, parent_config={'configurable': {'thread_id': 'example_1', 'checkpoint_ns': '', 'checkpoint_id': '1f05a1cb-abca-6ce6-bfff-b6f4ae46384f'}}, pending_writes=[('edfe0cf3-2b05-9dd9-9753-51133379cbcc', 'current_role', '生成AI製品エキスパート'), ('edfe0cf3-2b05-9dd9-9753-51133379cbcc', 'branch:to:answer', None)])\n",
      "CheckpointTuple(config={'configurable': {'thread_id': 'example_1', 'checkpoint_ns': '', 'checkpoint_id': '1f05a1cb-abca-6ce6-bfff-b6f4ae46384f'}}, checkpoint={'v': 4, 'ts': '2025-07-06T03:53:08.699666+00:00', 'id': '1f05a1cb-abca-6ce6-bfff-b6f4ae46384f', 'channel_versions': {'__start__': '00000000000000000000000000000001.0.5151758575631956'}, 'versions_seen': {'__input__': {}}, 'channel_values': {'__start__': State(query='生成AIについて教えてください', current_role='', messages=[], current_judge=False, judgement_reason='')}}, metadata={'source': 'input', 'step': -1, 'parents': {}, 'thread_id': 'example_1'}, parent_config=None, pending_writes=[('b871784b-1a43-ddd5-722a-4cd17cbc2945', 'query', '生成AIについて教えてください'), ('b871784b-1a43-ddd5-722a-4cd17cbc2945', 'current_role', ''), ('b871784b-1a43-ddd5-722a-4cd17cbc2945', 'messages', []), ('b871784b-1a43-ddd5-722a-4cd17cbc2945', 'current_judge', False), ('b871784b-1a43-ddd5-722a-4cd17cbc2945', 'judgement_reason', ''), ('b871784b-1a43-ddd5-722a-4cd17cbc2945', 'branch:to:selection', None)])\n"
     ]
    }
   ],
   "source": [
    "for checkpoint in checkpointer.list(config):\n",
    "    print(checkpoint)"
   ]
  },
  {
   "cell_type": "code",
   "execution_count": 30,
   "id": "d00d74f8",
   "metadata": {},
   "outputs": [
    {
     "name": "stdout",
     "output_type": "stream",
     "text": [
      "チェックポイントデータ:\n",
      "{'channel_values': {'current_judge': True,\n",
      "                    'current_role': '生成AI製品エキスパート',\n",
      "                    'judgement_reason': 'この回答は生成AIの概要を適切に説明しており、問題はないと判断しました。回答は生成AIの特徴、メリット、課題などを簡潔にまとめており、ユーザの質問に対して十分な情報を提供しています。',\n",
      "                    'messages': ['はい、生成AIについて詳しく説明させていただきます。\\n'\n",
      "                                 '\\n'\n",
      "                                 '生成AIとは、人工知能技術を使って新しいコンテンツを自動的に生成する技術です。これには主に以下のような特徴があります:\\n'\n",
      "                                 '\\n'\n",
      "                                 '- 言語モデルを使って自然言語を生成する言語生成AI\\n'\n",
      "                                 '- 画像生成AI (DALL-E、Stable Diffusion '\n",
      "                                 'など)で新しい画像を生成する\\n'\n",
      "                                 '- 音声合成AIで人工的な音声を生成する\\n'\n",
      "                                 '- 音楽生成AIで新しい楽曲を作り出す\\n'\n",
      "                                 '\\n'\n",
      "                                 'これらの生成AIは、膨大なデータを学習することで、人間が作るのと似たような新しいコンテンツを生み出すことができます。\\n'\n",
      "                                 '\\n'\n",
      "                                 '生成AIの大きな特徴は、創造性と生産性の向上にあります。人間が手作業で行っていた作業を自動化できるため、効率的にコンテンツを生み出すことができます。また、人間の発想を超えた新しいアイデアを生み出すこともできます。\\n'\n",
      "                                 '\\n'\n",
      "                                 '一方で、生成AIにはいくつかの課題もあります。倫理的な問題や、著作権侵害のリスク、生成物の品質管理など、慎重に扱う必要があります。\\n'\n",
      "                                 '\\n'\n",
      "                                 '生成AIは急速に進化しており、今後さまざまな分野で活用されていくことが期待されています。ただし、人間の創造性を補完するツールとして活用していくことが重要だと考えています。'],\n",
      "                    'query': '生成AIについて教えてください'},\n",
      " 'channel_versions': {'__start__': '00000000000000000000000000000002.0.7046678504183621',\n",
      "                      'branch:to:answer': '00000000000000000000000000000004.0.995235724542301',\n",
      "                      'branch:to:check': '00000000000000000000000000000005.0.7272335141860979',\n",
      "                      'branch:to:selection': '00000000000000000000000000000003.0.10467428556484415',\n",
      "                      'current_judge': '00000000000000000000000000000005.0.7272335141860979',\n",
      "                      'current_role': '00000000000000000000000000000003.0.10467428556484415',\n",
      "                      'judgement_reason': '00000000000000000000000000000005.0.7272335141860979',\n",
      "                      'messages': '00000000000000000000000000000004.0.995235724542301',\n",
      "                      'query': '00000000000000000000000000000002.0.7046678504183621'},\n",
      " 'id': '1f05a1cb-df66-6a0a-8003-30f92f7f1edb',\n",
      " 'ts': '2025-07-06T03:53:14.111218+00:00',\n",
      " 'v': 4,\n",
      " 'versions_seen': {'__input__': {},\n",
      "                   '__start__': {'__start__': '00000000000000000000000000000001.0.5151758575631956'},\n",
      "                   'answer': {'branch:to:answer': '00000000000000000000000000000003.0.10467428556484415'},\n",
      "                   'check': {'branch:to:check': '00000000000000000000000000000004.0.995235724542301'},\n",
      "                   'selection': {'branch:to:selection': '00000000000000000000000000000002.0.7046678504183621'}}}\n",
      "\n",
      "メタデータ:\n",
      "{'parents': {}, 'source': 'loop', 'step': 3, 'thread_id': 'example_1'}\n"
     ]
    }
   ],
   "source": [
    "print_checkpoint_dump(checkpointer, config)"
   ]
  },
  {
   "cell_type": "code",
   "execution_count": null,
   "id": "53c529c1",
   "metadata": {},
   "outputs": [],
   "source": []
  },
  {
   "cell_type": "code",
   "execution_count": null,
   "id": "038be4f7",
   "metadata": {},
   "outputs": [],
   "source": [
    "d"
   ]
  },
  {
   "cell_type": "code",
   "execution_count": null,
   "id": "ff6c0dce",
   "metadata": {},
   "outputs": [],
   "source": []
  },
  {
   "cell_type": "code",
   "execution_count": null,
   "id": "422d2b8e",
   "metadata": {},
   "outputs": [],
   "source": []
  }
 ],
 "metadata": {
  "kernelspec": {
   "display_name": "langchain-agent-book",
   "language": "python",
   "name": "python3"
  },
  "language_info": {
   "codemirror_mode": {
    "name": "ipython",
    "version": 3
   },
   "file_extension": ".py",
   "mimetype": "text/x-python",
   "name": "python",
   "nbconvert_exporter": "python",
   "pygments_lexer": "ipython3",
   "version": "3.12.10"
  }
 },
 "nbformat": 4,
 "nbformat_minor": 5
}
